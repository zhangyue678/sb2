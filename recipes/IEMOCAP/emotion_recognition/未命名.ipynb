{
 "cells": [
  {
   "cell_type": "code",
   "execution_count": 9,
   "id": "ac4c3e7f",
   "metadata": {},
   "outputs": [
    {
     "name": "stdout",
     "output_type": "stream",
     "text": [
      "0 1\n",
      "0.1 0.9\n",
      "0.2 0.8\n",
      "0.3 0.7\n",
      "0.4 0.6\n",
      "0.5 0.5\n",
      "0.6 0.4\n",
      "0.7 0.30000000000000004\n",
      "0.8 0.19999999999999996\n",
      "0.9 0.09999999999999998\n",
      "1.0 0.0\n"
     ]
    }
   ],
   "source": [
    "for i in range(0,11):\n",
    "    i = 0 if i==0 else i/10\n",
    "    print(i, 1-i)"
   ]
  },
  {
   "cell_type": "code",
   "execution_count": null,
   "id": "75eecf06",
   "metadata": {},
   "outputs": [],
   "source": []
  }
 ],
 "metadata": {
  "kernelspec": {
   "display_name": "Python 3 (ipykernel)",
   "language": "python",
   "name": "python3"
  },
  "language_info": {
   "codemirror_mode": {
    "name": "ipython",
    "version": 3
   },
   "file_extension": ".py",
   "mimetype": "text/x-python",
   "name": "python",
   "nbconvert_exporter": "python",
   "pygments_lexer": "ipython3",
   "version": "3.8.12"
  }
 },
 "nbformat": 4,
 "nbformat_minor": 5
}
