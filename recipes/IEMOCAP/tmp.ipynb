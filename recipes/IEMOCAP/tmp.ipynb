{
 "cells": [
  {
   "cell_type": "code",
   "execution_count": 21,
   "id": "6fe8f5dd",
   "metadata": {},
   "outputs": [],
   "source": [
    "import torch\n",
    "import torch.nn as nn"
   ]
  },
  {
   "cell_type": "code",
   "execution_count": 22,
   "id": "c15356c5",
   "metadata": {},
   "outputs": [],
   "source": [
    "input = torch.randn(4408, 300, 64)\n",
    "\n",
    "#h0 = torch.randn(2, 300, 20)\n",
    "#c0 = torch.randn(2, 300, 20)"
   ]
  },
  {
   "cell_type": "code",
   "execution_count": 49,
   "id": "59b2a935",
   "metadata": {},
   "outputs": [],
   "source": [
    "rnn = nn.LSTM(input_size=64, hidden_size=20, num_layers=1,\n",
    "              batch_first=True, dropout=0.3, bidirectional=True)\n",
    "\n",
    "output, (hn, cn) = rnn(input)"
   ]
  },
  {
   "cell_type": "code",
   "execution_count": 50,
   "id": "7d22838a",
   "metadata": {},
   "outputs": [
    {
     "data": {
      "text/plain": [
       "13760"
      ]
     },
     "execution_count": 50,
     "metadata": {},
     "output_type": "execute_result"
    }
   ],
   "source": [
    "total_params = sum(p.numel() for p in rnn.parameters() if p.requires_grad)\n",
    "total_params"
   ]
  },
  {
   "cell_type": "code",
   "execution_count": 30,
   "id": "0d73b799",
   "metadata": {},
   "outputs": [
    {
     "data": {
      "text/plain": [
       "torch.Size([4408, 300, 40])"
      ]
     },
     "execution_count": 30,
     "metadata": {},
     "output_type": "execute_result"
    }
   ],
   "source": [
    "output.shape"
   ]
  },
  {
   "cell_type": "code",
   "execution_count": 31,
   "id": "a5006b84",
   "metadata": {},
   "outputs": [
    {
     "data": {
      "text/plain": [
       "(torch.Size([6, 4408, 20]), torch.Size([6, 4408, 20]))"
      ]
     },
     "execution_count": 31,
     "metadata": {},
     "output_type": "execute_result"
    }
   ],
   "source": [
    "(hn.shape, cn.shape)"
   ]
  },
  {
   "cell_type": "code",
   "execution_count": 32,
   "id": "9a274dc9",
   "metadata": {},
   "outputs": [],
   "source": [
    "A=torch.ones(2,3)\n",
    "B=2*torch.ones(4,3)\n",
    "C=3*torch.ones(4,3)\n",
    "C=torch.cat((A,B,C),0)"
   ]
  },
  {
   "cell_type": "code",
   "execution_count": 33,
   "id": "e198ba40",
   "metadata": {},
   "outputs": [
    {
     "data": {
      "text/plain": [
       "tensor([[1., 1., 1.],\n",
       "        [1., 1., 1.],\n",
       "        [2., 2., 2.],\n",
       "        [2., 2., 2.],\n",
       "        [2., 2., 2.],\n",
       "        [2., 2., 2.],\n",
       "        [3., 3., 3.],\n",
       "        [3., 3., 3.],\n",
       "        [3., 3., 3.],\n",
       "        [3., 3., 3.]])"
      ]
     },
     "execution_count": 33,
     "metadata": {},
     "output_type": "execute_result"
    }
   ],
   "source": [
    "C"
   ]
  },
  {
   "cell_type": "code",
   "execution_count": null,
   "id": "69745484",
   "metadata": {},
   "outputs": [],
   "source": []
  }
 ],
 "metadata": {
  "kernelspec": {
   "display_name": "Python 3 (ipykernel)",
   "language": "python",
   "name": "python3"
  },
  "language_info": {
   "codemirror_mode": {
    "name": "ipython",
    "version": 3
   },
   "file_extension": ".py",
   "mimetype": "text/x-python",
   "name": "python",
   "nbconvert_exporter": "python",
   "pygments_lexer": "ipython3",
   "version": "3.8.12"
  }
 },
 "nbformat": 4,
 "nbformat_minor": 5
}
